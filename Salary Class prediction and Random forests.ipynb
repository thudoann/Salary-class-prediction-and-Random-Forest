{
 "cells": [
  {
   "cell_type": "markdown",
   "id": "e8f41824",
   "metadata": {
    "id": "e8f41824"
   },
   "source": [
    "# Task 1: Working with a dataset with categorical features"
   ]
  },
  {
   "cell_type": "code",
   "execution_count": 1,
   "id": "6d7b524e",
   "metadata": {
    "id": "6d7b524e"
   },
   "outputs": [],
   "source": [
    "import pandas as pd\n",
    "import numpy as np\n",
    "\n",
    "import matplotlib.pyplot as plt\n",
    "from matplotlib.legend_handler import HandlerLine2D\n",
    "\n",
    "from sklearn.tree import DecisionTreeClassifier\n",
    "from sklearn.ensemble import GradientBoostingClassifier\n",
    "from sklearn.ensemble import RandomForestClassifier\n",
    "\n",
    "from sklearn.feature_extraction import DictVectorizer\n",
    "from sklearn.pipeline import make_pipeline\n",
    "from sklearn.model_selection import cross_val_score\n",
    "from sklearn.model_selection import GridSearchCV\n",
    "\n",
    "from sklearn.metrics import accuracy_score\n",
    "\n",
    "import warnings\n",
    "warnings.filterwarnings('ignore')"
   ]
  },
  {
   "cell_type": "code",
   "execution_count": 2,
   "id": "b717efc4",
   "metadata": {
    "id": "b717efc4"
   },
   "outputs": [],
   "source": [
    "# # Mount drive.\n",
    "# from google.colab import drive\n",
    "# drive.mount('/content/drive')"
   ]
  },
  {
   "cell_type": "code",
   "execution_count": 3,
   "id": "Vv6IxiYwk7qc",
   "metadata": {
    "id": "Vv6IxiYwk7qc"
   },
   "outputs": [],
   "source": [
    "# import os\n",
    "# os.chdir(\"/content/drive/\")\n",
    "# !ls"
   ]
  },
  {
   "cell_type": "markdown",
   "id": "3deb12f0",
   "metadata": {
    "id": "3deb12f0"
   },
   "source": [
    "### Step 1. Reading the data"
   ]
  },
  {
   "cell_type": "code",
   "execution_count": 4,
   "id": "e4b44f30",
   "metadata": {
    "id": "e4b44f30"
   },
   "outputs": [],
   "source": [
    "# Read the CSV file into 2 different dataframe\n",
    "train_data = pd.read_csv('adult_train.csv')\n",
    "\n",
    "Xtrain = train_data.drop('target', axis=1)\n",
    "Xtrain_dicts = Xtrain.to_dict('records') #convert Xtrain to a dictionary\n",
    "Ytrain = train_data['target']\n",
    "\n",
    "test_data = pd.read_csv('adult_test.csv')\n",
    "\n",
    "Xtest = test_data.drop('target', axis=1)\n",
    "Xtest_dicts = Xtest.to_dict('records') #convert Xtest to a dictionary\n",
    "Ytest = test_data['target']"
   ]
  },
  {
   "cell_type": "code",
   "execution_count": 5,
   "id": "2c7f4f2e",
   "metadata": {
    "colab": {
     "base_uri": "https://localhost:8080/",
     "height": 337
    },
    "id": "2c7f4f2e",
    "outputId": "652d6c18-dd31-4788-ff25-0bec0f001710",
    "scrolled": true
   },
   "outputs": [
    {
     "data": {
      "text/html": [
       "<div>\n",
       "<style scoped>\n",
       "    .dataframe tbody tr th:only-of-type {\n",
       "        vertical-align: middle;\n",
       "    }\n",
       "\n",
       "    .dataframe tbody tr th {\n",
       "        vertical-align: top;\n",
       "    }\n",
       "\n",
       "    .dataframe thead th {\n",
       "        text-align: right;\n",
       "    }\n",
       "</style>\n",
       "<table border=\"1\" class=\"dataframe\">\n",
       "  <thead>\n",
       "    <tr style=\"text-align: right;\">\n",
       "      <th></th>\n",
       "      <th>age</th>\n",
       "      <th>workclass</th>\n",
       "      <th>education</th>\n",
       "      <th>education-num</th>\n",
       "      <th>marital-status</th>\n",
       "      <th>occupation</th>\n",
       "      <th>relationship</th>\n",
       "      <th>race</th>\n",
       "      <th>sex</th>\n",
       "      <th>capital-gain</th>\n",
       "      <th>capital-loss</th>\n",
       "      <th>hours-per-week</th>\n",
       "      <th>native-country</th>\n",
       "      <th>target</th>\n",
       "    </tr>\n",
       "  </thead>\n",
       "  <tbody>\n",
       "    <tr>\n",
       "      <th>0</th>\n",
       "      <td>27</td>\n",
       "      <td>Private</td>\n",
       "      <td>Some-college</td>\n",
       "      <td>10</td>\n",
       "      <td>Divorced</td>\n",
       "      <td>Adm-clerical</td>\n",
       "      <td>Unmarried</td>\n",
       "      <td>White</td>\n",
       "      <td>Female</td>\n",
       "      <td>0</td>\n",
       "      <td>0</td>\n",
       "      <td>44</td>\n",
       "      <td>United-States</td>\n",
       "      <td>&lt;=50K</td>\n",
       "    </tr>\n",
       "    <tr>\n",
       "      <th>1</th>\n",
       "      <td>27</td>\n",
       "      <td>Private</td>\n",
       "      <td>Bachelors</td>\n",
       "      <td>13</td>\n",
       "      <td>Never-married</td>\n",
       "      <td>Prof-specialty</td>\n",
       "      <td>Not-in-family</td>\n",
       "      <td>White</td>\n",
       "      <td>Female</td>\n",
       "      <td>0</td>\n",
       "      <td>0</td>\n",
       "      <td>40</td>\n",
       "      <td>United-States</td>\n",
       "      <td>&lt;=50K</td>\n",
       "    </tr>\n",
       "    <tr>\n",
       "      <th>2</th>\n",
       "      <td>25</td>\n",
       "      <td>Private</td>\n",
       "      <td>Assoc-acdm</td>\n",
       "      <td>12</td>\n",
       "      <td>Married-civ-spouse</td>\n",
       "      <td>Sales</td>\n",
       "      <td>Husband</td>\n",
       "      <td>White</td>\n",
       "      <td>Male</td>\n",
       "      <td>0</td>\n",
       "      <td>0</td>\n",
       "      <td>40</td>\n",
       "      <td>United-States</td>\n",
       "      <td>&lt;=50K</td>\n",
       "    </tr>\n",
       "    <tr>\n",
       "      <th>3</th>\n",
       "      <td>46</td>\n",
       "      <td>Private</td>\n",
       "      <td>5th-6th</td>\n",
       "      <td>3</td>\n",
       "      <td>Married-civ-spouse</td>\n",
       "      <td>Transport-moving</td>\n",
       "      <td>Husband</td>\n",
       "      <td>Amer-Indian-Eskimo</td>\n",
       "      <td>Male</td>\n",
       "      <td>0</td>\n",
       "      <td>1902</td>\n",
       "      <td>40</td>\n",
       "      <td>United-States</td>\n",
       "      <td>&lt;=50K</td>\n",
       "    </tr>\n",
       "    <tr>\n",
       "      <th>4</th>\n",
       "      <td>45</td>\n",
       "      <td>Private</td>\n",
       "      <td>11th</td>\n",
       "      <td>7</td>\n",
       "      <td>Divorced</td>\n",
       "      <td>Transport-moving</td>\n",
       "      <td>Not-in-family</td>\n",
       "      <td>White</td>\n",
       "      <td>Male</td>\n",
       "      <td>0</td>\n",
       "      <td>2824</td>\n",
       "      <td>76</td>\n",
       "      <td>United-States</td>\n",
       "      <td>&gt;50K</td>\n",
       "    </tr>\n",
       "  </tbody>\n",
       "</table>\n",
       "</div>"
      ],
      "text/plain": [
       "   age workclass     education  education-num      marital-status  \\\n",
       "0   27   Private  Some-college             10            Divorced   \n",
       "1   27   Private     Bachelors             13       Never-married   \n",
       "2   25   Private    Assoc-acdm             12  Married-civ-spouse   \n",
       "3   46   Private       5th-6th              3  Married-civ-spouse   \n",
       "4   45   Private          11th              7            Divorced   \n",
       "\n",
       "         occupation   relationship                race     sex  capital-gain  \\\n",
       "0      Adm-clerical      Unmarried               White  Female             0   \n",
       "1    Prof-specialty  Not-in-family               White  Female             0   \n",
       "2             Sales        Husband               White    Male             0   \n",
       "3  Transport-moving        Husband  Amer-Indian-Eskimo    Male             0   \n",
       "4  Transport-moving  Not-in-family               White    Male             0   \n",
       "\n",
       "   capital-loss  hours-per-week native-country target  \n",
       "0             0              44  United-States  <=50K  \n",
       "1             0              40  United-States  <=50K  \n",
       "2             0              40  United-States  <=50K  \n",
       "3          1902              40  United-States  <=50K  \n",
       "4          2824              76  United-States   >50K  "
      ]
     },
     "execution_count": 5,
     "metadata": {},
     "output_type": "execute_result"
    }
   ],
   "source": [
    "train_data.head()"
   ]
  },
  {
   "cell_type": "markdown",
   "id": "9ef6b3f7",
   "metadata": {},
   "source": [
    "We inspect the first instance of the data after we converted it to a set of dictionaries."
   ]
  },
  {
   "cell_type": "code",
   "execution_count": 6,
   "id": "b5f2c57b",
   "metadata": {
    "scrolled": true
   },
   "outputs": [
    {
     "data": {
      "text/plain": [
       "{'age': 27,\n",
       " 'workclass': 'Private',\n",
       " 'education': 'Some-college',\n",
       " 'education-num': 10,\n",
       " 'marital-status': 'Divorced',\n",
       " 'occupation': 'Adm-clerical',\n",
       " 'relationship': 'Unmarried',\n",
       " 'race': 'White',\n",
       " 'sex': 'Female',\n",
       " 'capital-gain': 0,\n",
       " 'capital-loss': 0,\n",
       " 'hours-per-week': 44,\n",
       " 'native-country': 'United-States'}"
      ]
     },
     "execution_count": 6,
     "metadata": {},
     "output_type": "execute_result"
    }
   ],
   "source": [
    "Xtrain_dicts[0]"
   ]
  },
  {
   "cell_type": "markdown",
   "id": "d8546316",
   "metadata": {},
   "source": [
    "We can see that each instance represents the information about an individual that we should use in training the model along with this individual's salary category, we also inspect this instance's respective target value which is the salary category."
   ]
  },
  {
   "cell_type": "code",
   "execution_count": 7,
   "id": "bb11bb02",
   "metadata": {},
   "outputs": [
    {
     "data": {
      "text/plain": [
       "'<=50K'"
      ]
     },
     "execution_count": 7,
     "metadata": {},
     "output_type": "execute_result"
    }
   ],
   "source": [
    "Ytrain[0]"
   ]
  },
  {
   "cell_type": "code",
   "execution_count": 8,
   "id": "b27693b2",
   "metadata": {},
   "outputs": [
    {
     "data": {
      "text/plain": [
       "array(['<=50K', '>50K'], dtype=object)"
      ]
     },
     "execution_count": 8,
     "metadata": {},
     "output_type": "execute_result"
    }
   ],
   "source": [
    "Ytrain.unique()"
   ]
  },
  {
   "cell_type": "markdown",
   "id": "6119c06c",
   "metadata": {},
   "source": [
    "As shown above, the the individual belongs to the category of people earning less than or equal 50k dollars per year, while there are 2 classes, <=50k and >50K."
   ]
  },
  {
   "cell_type": "markdown",
   "id": "eea4c803",
   "metadata": {
    "id": "eea4c803"
   },
   "source": [
    "### Step 2: Encoding the features as numbers."
   ]
  },
  {
   "cell_type": "code",
   "execution_count": 9,
   "id": "61edc9ec",
   "metadata": {
    "id": "61edc9ec"
   },
   "outputs": [],
   "source": [
    "dv = DictVectorizer()\n",
    "Xtrain_encoded = dv.fit_transform(Xtrain_dicts)\n",
    "Xtest_encoded = dv.transform(Xtest_dicts)"
   ]
  },
  {
   "cell_type": "markdown",
   "id": "a78a3b07",
   "metadata": {},
   "source": [
    "We use the DictVectorizer() method to vectorize the data which we stored in dictionaries, then we used <b>fit_transform</b> to encode the Xtrain (training data). In this method, <i>fit</i> goes over the training data and builds a vocabulary of features then <i>transform</i> the data from a list of dictionaries into a numerical matrix.\n",
    "\n",
    "Because the vectorizer does not need to be \"trained\" this time, we simply called <b>transform</b> to handle the test data by converting it from a list of dictionaries into a numerical matrix."
   ]
  },
  {
   "cell_type": "code",
   "execution_count": 10,
   "id": "d89f25ed",
   "metadata": {
    "scrolled": true
   },
   "outputs": [
    {
     "data": {
      "text/plain": [
       "array([[  25.,    0.,    0., ...,    0.,    0.,    0.],\n",
       "       [  38.,    0.,    0., ...,    0.,    0.,    0.],\n",
       "       [  28.,    0.,    0., ...,    0.,    0.,    0.],\n",
       "       ...,\n",
       "       [  38.,    0.,    0., ...,    0.,    0.,    0.],\n",
       "       [  44., 5455.,    0., ...,    0.,    0.,    0.],\n",
       "       [  35.,    0.,    0., ...,    0.,    0.,    0.]])"
      ]
     },
     "execution_count": 10,
     "metadata": {},
     "output_type": "execute_result"
    }
   ],
   "source": [
    "Xtest_encoded.toarray()"
   ]
  },
  {
   "cell_type": "code",
   "execution_count": 11,
   "id": "cae8c076",
   "metadata": {
    "colab": {
     "base_uri": "https://localhost:8080/"
    },
    "id": "cae8c076",
    "outputId": "09ab02fa-fc17-423a-d9b4-22ffea262d6a"
   },
   "outputs": [
    {
     "data": {
      "text/plain": [
       "array([[  27.,    0.,    0., ...,    0.,    0.,    0.],\n",
       "       [  27.,    0.,    0., ...,    0.,    0.,    0.],\n",
       "       [  25.,    0.,    0., ...,    0.,    0.,    0.],\n",
       "       ...,\n",
       "       [  23.,    0.,    0., ...,    0.,    0.,    0.],\n",
       "       [  45., 7688.,    0., ...,    0.,    0.,    0.],\n",
       "       [  25., 2597.,    0., ...,    0.,    0.,    0.]])"
      ]
     },
     "execution_count": 11,
     "metadata": {},
     "output_type": "execute_result"
    }
   ],
   "source": [
    "Xtrain_encoded.toarray()"
   ]
  },
  {
   "cell_type": "code",
   "execution_count": 12,
   "id": "a792c5f3",
   "metadata": {
    "colab": {
     "base_uri": "https://localhost:8080/"
    },
    "id": "a792c5f3",
    "outputId": "71e6eee8-7f32-4837-b3d0-75f75bc6cee6",
    "scrolled": false
   },
   "outputs": [
    {
     "data": {
      "text/plain": [
       "['age',\n",
       " 'capital-gain',\n",
       " 'capital-loss',\n",
       " 'education-num',\n",
       " 'education=10th',\n",
       " 'education=11th',\n",
       " 'education=12th',\n",
       " 'education=1st-4th',\n",
       " 'education=5th-6th',\n",
       " 'education=7th-8th']"
      ]
     },
     "execution_count": 12,
     "metadata": {},
     "output_type": "execute_result"
    }
   ],
   "source": [
    "#Display first 10 features\n",
    "dv.get_feature_names()[:10]"
   ]
  },
  {
   "cell_type": "code",
   "execution_count": 13,
   "id": "4200ee9f",
   "metadata": {
    "colab": {
     "base_uri": "https://localhost:8080/"
    },
    "id": "4200ee9f",
    "outputId": "791348f4-8168-4555-a2f4-a17e16e09b40",
    "scrolled": true
   },
   "outputs": [
    {
     "data": {
      "text/plain": [
       "['sex=Male',\n",
       " 'workclass=?',\n",
       " 'workclass=Federal-gov',\n",
       " 'workclass=Local-gov',\n",
       " 'workclass=Never-worked',\n",
       " 'workclass=Private',\n",
       " 'workclass=Self-emp-inc',\n",
       " 'workclass=Self-emp-not-inc',\n",
       " 'workclass=State-gov',\n",
       " 'workclass=Without-pay']"
      ]
     },
     "execution_count": 13,
     "metadata": {},
     "output_type": "execute_result"
    }
   ],
   "source": [
    "#Display last 10 features\n",
    "dv.get_feature_names()[-10:]"
   ]
  },
  {
   "cell_type": "markdown",
   "id": "5c37debe",
   "metadata": {},
   "source": [
    "Moreover, we apply the three classifiers Decision Tree, Random Forest, and Gradient Boosting on the training data and examine their mean cross-validation accuracies."
   ]
  },
  {
   "cell_type": "code",
   "execution_count": 14,
   "id": "5a92c069",
   "metadata": {
    "colab": {
     "base_uri": "https://localhost:8080/"
    },
    "id": "5a92c069",
    "outputId": "ea78456e-6bd7-4aea-d555-698edecdbc7f"
   },
   "outputs": [
    {
     "data": {
      "text/plain": [
       "0.8179724514305352"
      ]
     },
     "execution_count": 14,
     "metadata": {},
     "output_type": "execute_result"
    }
   ],
   "source": [
    "# Cross-validation accuracy of Decision Tree Classifier\n",
    "skDT = DecisionTreeClassifier(random_state=0)\n",
    "cross_val_score(skDT, Xtrain_encoded, Ytrain).mean()"
   ]
  },
  {
   "cell_type": "code",
   "execution_count": 15,
   "id": "43002d40",
   "metadata": {
    "colab": {
     "base_uri": "https://localhost:8080/"
    },
    "id": "43002d40",
    "outputId": "f79ce737-b4f2-4cdb-a586-3ca0df90b4af"
   },
   "outputs": [
    {
     "data": {
      "text/plain": [
       "0.8467491260155932"
      ]
     },
     "execution_count": 15,
     "metadata": {},
     "output_type": "execute_result"
    }
   ],
   "source": [
    "# Cross-validation accuracy of Random Forest Classifier\n",
    "RF = RandomForestClassifier(random_state=0,n_jobs=-1)\n",
    "cross_val_score(RF, Xtrain_encoded, Ytrain).mean()"
   ]
  },
  {
   "cell_type": "code",
   "execution_count": 16,
   "id": "598ec1fa",
   "metadata": {
    "colab": {
     "base_uri": "https://localhost:8080/"
    },
    "id": "598ec1fa",
    "outputId": "4a3ff097-d9ac-465c-c913-93fefc881f8a"
   },
   "outputs": [
    {
     "data": {
      "text/plain": [
       "0.8656675592304335"
      ]
     },
     "execution_count": 16,
     "metadata": {},
     "output_type": "execute_result"
    }
   ],
   "source": [
    "# Cross-validation accuracy of Gradient Boosting Classifier\n",
    "GBC = GradientBoostingClassifier(random_state=0)\n",
    "cross_val_score(GBC, Xtrain_encoded, Ytrain).mean()"
   ]
  },
  {
   "cell_type": "markdown",
   "id": "ff599bc2",
   "metadata": {},
   "source": [
    "We can see from the three cells above that the GradientBoostingClassifier had the highest mean cross-validation accuracy among the 3 examined classifiers, so we use it to predict the data of the test set."
   ]
  },
  {
   "cell_type": "code",
   "execution_count": 17,
   "id": "9e49e29f",
   "metadata": {},
   "outputs": [
    {
     "data": {
      "text/plain": [
       "GradientBoostingClassifier(random_state=0)"
      ]
     },
     "execution_count": 17,
     "metadata": {},
     "output_type": "execute_result"
    }
   ],
   "source": [
    "GBC.fit(Xtrain_encoded, Ytrain)"
   ]
  },
  {
   "cell_type": "code",
   "execution_count": 18,
   "id": "b7fcacfc",
   "metadata": {},
   "outputs": [
    {
     "data": {
      "text/plain": [
       "0.8711381364781033"
      ]
     },
     "execution_count": 18,
     "metadata": {},
     "output_type": "execute_result"
    }
   ],
   "source": [
    "accuracy_score(Ytest, GBC.predict(Xtest_encoded))"
   ]
  },
  {
   "cell_type": "markdown",
   "id": "d4b48077",
   "metadata": {},
   "source": [
    "We can see that the model achieved a higher test set accuracy than its mean cross-validation accuracy by <b>0.5%</b> where it achieved <b>87.1%</b> accuracy on the test set and <b>86.5%</b> mean accuracy on the cross-validated sets."
   ]
  },
  {
   "cell_type": "markdown",
   "id": "d80a3d4b",
   "metadata": {
    "id": "d80a3d4b"
   },
   "source": [
    "### Step 3. Combining the steps."
   ]
  },
  {
   "cell_type": "code",
   "execution_count": 19,
   "id": "c863021c",
   "metadata": {},
   "outputs": [],
   "source": [
    "pipeline = make_pipeline(\n",
    "  DictVectorizer(),\n",
    "  GradientBoostingClassifier(random_state=0)\n",
    ")"
   ]
  },
  {
   "cell_type": "code",
   "execution_count": 20,
   "id": "2c3139e2",
   "metadata": {},
   "outputs": [
    {
     "data": {
      "text/plain": [
       "0.8656675592304335"
      ]
     },
     "execution_count": 20,
     "metadata": {},
     "output_type": "execute_result"
    }
   ],
   "source": [
    "cross_val_score(pipeline, Xtrain_dicts, Ytrain, n_jobs=-1).mean()"
   ]
  },
  {
   "cell_type": "code",
   "execution_count": 21,
   "id": "a6c48784",
   "metadata": {},
   "outputs": [
    {
     "data": {
      "text/plain": [
       "Pipeline(steps=[('dictvectorizer', DictVectorizer()),\n",
       "                ('gradientboostingclassifier',\n",
       "                 GradientBoostingClassifier(random_state=0))])"
      ]
     },
     "execution_count": 21,
     "metadata": {},
     "output_type": "execute_result"
    }
   ],
   "source": [
    "pipeline.fit(Xtrain_dicts,Ytrain)"
   ]
  },
  {
   "cell_type": "code",
   "execution_count": 22,
   "id": "6a031d1a",
   "metadata": {},
   "outputs": [
    {
     "data": {
      "text/plain": [
       "0.8711381364781033"
      ]
     },
     "execution_count": 22,
     "metadata": {},
     "output_type": "execute_result"
    }
   ],
   "source": [
    "accuracy_score(Ytest,pipeline.predict(Xtest_dicts))"
   ]
  },
  {
   "cell_type": "markdown",
   "id": "18877dc3",
   "metadata": {},
   "source": [
    "After building the pipeline to vectorize the data from the list of dictionaries, and use it for cross-validation, fitting on the training set, and testing on the testing set, we got the exact same results when implementing the pipeline with DictVectorizer method and the GBC model as the direct implementation of the Gradient Boosting Classifier."
   ]
  },
  {
   "cell_type": "markdown",
   "id": "3c51e77d",
   "metadata": {},
   "source": [
    "### Hyperparameter tuning of the GBC using sklearn's gridSearch"
   ]
  },
  {
   "cell_type": "code",
   "execution_count": 23,
   "id": "8982671c",
   "metadata": {
    "id": "8982671c"
   },
   "outputs": [],
   "source": [
    "# Build a pipeline consisting of a vectorization step and a decision tree classifier\n",
    "pipeline = make_pipeline(\n",
    "  DictVectorizer(),\n",
    "  GradientBoostingClassifier(random_state=0)\n",
    ")"
   ]
  },
  {
   "cell_type": "code",
   "execution_count": 24,
   "id": "c4071634",
   "metadata": {
    "id": "c4071634"
   },
   "outputs": [],
   "source": [
    "# Tuning Gradien boosting classifier\n",
    "param_grid = [{'gradientboostingclassifier__criterion': ['friedman_mse', 'mse'],\n",
    "                'gradientboostingclassifier__n_estimators' : [4, 8, 16, 64, 100]\n",
    "                ,'gradientboostingclassifier__learning_rate': [0.001,0.01]\n",
    "                  }]\n",
    "gs = GridSearchCV(pipeline, param_grid,n_jobs=-1)"
   ]
  },
  {
   "cell_type": "code",
   "execution_count": 25,
   "id": "bbc74395",
   "metadata": {
    "colab": {
     "background_save": true,
     "base_uri": "https://localhost:8080/"
    },
    "id": "bbc74395",
    "outputId": "7ebe7941-aad6-466c-e656-ca2e279289d9",
    "scrolled": true
   },
   "outputs": [
    {
     "data": {
      "text/plain": [
       "GridSearchCV(estimator=Pipeline(steps=[('dictvectorizer', DictVectorizer()),\n",
       "                                       ('gradientboostingclassifier',\n",
       "                                        GradientBoostingClassifier(random_state=0))]),\n",
       "             n_jobs=-1,\n",
       "             param_grid=[{'gradientboostingclassifier__criterion': ['friedman_mse',\n",
       "                                                                    'mse'],\n",
       "                          'gradientboostingclassifier__learning_rate': [0.001,\n",
       "                                                                        0.01],\n",
       "                          'gradientboostingclassifier__n_estimators': [4, 8, 16,\n",
       "                                                                       64,\n",
       "                                                                       100]}])"
      ]
     },
     "execution_count": 25,
     "metadata": {},
     "output_type": "execute_result"
    }
   ],
   "source": [
    "gs.fit(Xtrain_dicts, Ytrain)"
   ]
  },
  {
   "cell_type": "code",
   "execution_count": 26,
   "id": "3f4aa4a7",
   "metadata": {},
   "outputs": [
    {
     "name": "stdout",
     "output_type": "stream",
     "text": [
      "The hyperparameter tuned Gradient Boosting Classifier accuracy is: 0.84\n"
     ]
    }
   ],
   "source": [
    "print(\"The hyperparameter tuned Gradient Boosting Classifier accuracy is: \"+str(round(gs.best_score_,2)))"
   ]
  },
  {
   "cell_type": "code",
   "execution_count": 27,
   "id": "f3c42bb3",
   "metadata": {},
   "outputs": [
    {
     "name": "stdout",
     "output_type": "stream",
     "text": [
      "The hyperparameter tuned Gradient Boosting Classifier parameters are: \n",
      "\n",
      "criterion: friedman_mse\n",
      "learning_rate: 0.01\n",
      "n_estimators: 100\n"
     ]
    }
   ],
   "source": [
    "print(\"The hyperparameter tuned Gradient Boosting Classifier parameters are: \\n\")\n",
    "for i,k in zip(gs.best_params_.keys(),gs.best_params_.values()):\n",
    "    print(i[28:]+': '+str(k))"
   ]
  },
  {
   "cell_type": "code",
   "execution_count": 28,
   "id": "1e5edd41",
   "metadata": {
    "id": "1e5edd41"
   },
   "outputs": [
    {
     "data": {
      "text/plain": [
       "0.8473680977826915"
      ]
     },
     "execution_count": 28,
     "metadata": {},
     "output_type": "execute_result"
    }
   ],
   "source": [
    "accuracy_score(Ytest, gs.predict(Xtest_dicts))"
   ]
  },
  {
   "cell_type": "markdown",
   "id": "b12aadd6",
   "metadata": {},
   "source": [
    "we can see from the tuned Gradient Boosting Classifier model and its other version applied with model's default values that the two versions of the model, the direct implementation of the model on the dictVectorized data, and the model implemented with a dict vectorizer within a pipeline, performed with the same efficiency, while the model had a higher test accuracy when implemented with its default parameters, thefore for future works we should consider expanding the grid search space to maximize the model's test-accuracy while maintaining a narrow generalization gap. "
   ]
  },
  {
   "cell_type": "markdown",
   "id": "d28b9591",
   "metadata": {},
   "source": [
    "# Task 2: Decision trees and random forests"
   ]
  },
  {
   "cell_type": "code",
   "execution_count": 29,
   "id": "f08784a1",
   "metadata": {},
   "outputs": [],
   "source": [
    "def testTrain_plot(max_depths,train_results,test_results, title):\n",
    "    plt.figure(figsize=(15,6))\n",
    "    line1, = plt.plot(max_depths,train_results, 'b', label=\"Train accuracy\",\n",
    "             marker='o')\n",
    "    line2, = plt.plot(max_depths,test_results, 'r', label=\"Test accuracy\",\n",
    "             marker='o')\n",
    "    plt.legend(handler_map={line1: HandlerLine2D(numpoints=2)})\n",
    "    plt.title(title)\n",
    "    plt.ylabel('Accuracy')\n",
    "    plt.xlabel('Tree depth')\n",
    "    plt.show()"
   ]
  },
  {
   "cell_type": "markdown",
   "id": "17f110d6",
   "metadata": {},
   "source": [
    "Here we define a function that takes as parameters the array of depths we want to examine ([1,50] in all the examined cases), predictions of training and testing sets separately, and a title, and produces a graph from these inputs which is going to be used in over/underfitting examination of the to be implemented models."
   ]
  },
  {
   "cell_type": "markdown",
   "id": "dbafecd1",
   "metadata": {},
   "source": [
    "## Underfitting and overfitting in decision tree classifiers"
   ]
  },
  {
   "cell_type": "code",
   "execution_count": 30,
   "id": "73615b61",
   "metadata": {
    "scrolled": true
   },
   "outputs": [],
   "source": [
    "max_depths = np.linspace(1, 50, 50, endpoint=True)\n",
    "\n",
    "train_results = []\n",
    "test_results = []\n",
    "\n",
    "for max_depth in max_depths:\n",
    "    dt = DecisionTreeClassifier(max_depth=max_depth,random_state=0)\n",
    "    dt.fit(Xtrain_encoded, Ytrain)\n",
    "    YpredTrain = dt.predict(Xtrain_encoded)\n",
    "    trainAccuracy = accuracy_score(Ytrain, YpredTrain)\n",
    "    Ypredtest = dt.predict(Xtest_encoded)\n",
    "    testAccuracy = accuracy_score(Ytest, Ypredtest)\n",
    "    train_results.append(trainAccuracy)\n",
    "    test_results.append(testAccuracy)"
   ]
  },
  {
   "cell_type": "code",
   "execution_count": 31,
   "id": "e72d0fc5",
   "metadata": {},
   "outputs": [
    {
     "name": "stdout",
     "output_type": "stream",
     "text": [
      "Training accuracy at max_depth = 50: 97.64%\n",
      "Testing accuracy at max_depth = 50: 81.75%\n"
     ]
    }
   ],
   "source": [
    "print('Training accuracy at max_depth = 50: ' + str(round(train_results[-1]*100,2))+'%')\n",
    "print('Testing accuracy at max_depth = 50: ' + str(round(test_results[-1]*100,2))+'%')"
   ]
  },
  {
   "cell_type": "markdown",
   "id": "70662ec4",
   "metadata": {},
   "source": [
    "as we see from the cell above, after the decision tree classifier is trained on with the Tree depth hyperparameter vale equal to <b>50</b>, we can see that the training accuracy at Tree depth = 50 is <b>97.64%</b> and the testing accuracy at the same tree depth is equal to <b>81.75%</b>, which is a very strong indictor on the existance of a generalization gap between the training and testing accuracies curves of the model. "
   ]
  },
  {
   "cell_type": "code",
   "execution_count": 32,
   "id": "100d0e86",
   "metadata": {},
   "outputs": [
    {
     "data": {
      "image/png": "[encoded data removed]",
      "text/plain": [
       "<Figure size 1080x432 with 1 Axes>"
      ]
     },
     "metadata": {
      "needs_background": "light"
     },
     "output_type": "display_data"
    }
   ],
   "source": [
    "testTrain_plot(max_depths,train_results,test_results, \"Test and Train accuracy vs. Tree depth of \\n Decision Tree classifier\")"
   ]
  },
  {
   "cell_type": "markdown",
   "id": "31119093",
   "metadata": {},
   "source": [
    "As we can see in the plot above as the tree depth hyperparameter of the decision tree classifier passes the value 7, the model starts to overfit where it reaches a training accuracy of 97.6% with a respective testing accuracy at max_depth = 50 of 81.7%, while between tree depths 1 and 2, the model was underfitting, meaning that it was too simple that it can't predict the training and testing data with a good accuracy (train accuracy equal test accuracy which are between 75% and 83%). Therefore, we can conclude that the optimal max_depth that maximizes the accuracy and minimizes the generalization gap between the testing and training accuracies curves is when the max_depth hyperparameter is between 6 and 10."
   ]
  },
  {
   "cell_type": "markdown",
   "id": "6c0dfdeb",
   "metadata": {},
   "source": [
    "## Underfitting and overfitting in random forest classifiers"
   ]
  },
  {
   "cell_type": "markdown",
   "id": "107a55c5",
   "metadata": {},
   "source": [
    "### For n_estimators = 1"
   ]
  },
  {
   "cell_type": "code",
   "execution_count": 33,
   "id": "5a884a42",
   "metadata": {
    "scrolled": true
   },
   "outputs": [],
   "source": [
    "max_depths = np.linspace(1, 50, 50, endpoint=True)\n",
    "\n",
    "train_results = []\n",
    "test_results = []\n",
    "\n",
    "for max_depth in max_depths:\n",
    "    rf_e1 = RandomForestClassifier(max_depth=max_depth,n_estimators=1,random_state=0)\n",
    "    rf_e1.fit(Xtrain_encoded, Ytrain)\n",
    "    YpredTrain = rf_e1.predict(Xtrain_encoded)\n",
    "    trainAccuracy = accuracy_score(Ytrain, YpredTrain)\n",
    "    Ypredtest = rf_e1.predict(Xtest_encoded)\n",
    "    testAccuracy = accuracy_score(Ytest, Ypredtest)\n",
    "    train_results.append(trainAccuracy)\n",
    "    test_results.append(testAccuracy)"
   ]
  },
  {
   "cell_type": "code",
   "execution_count": 34,
   "id": "0b185bfe",
   "metadata": {},
   "outputs": [
    {
     "name": "stdout",
     "output_type": "stream",
     "text": [
      "Training accuracy at max_depth = 50: 91.61%\n",
      "Testing accuracy at max_depth = 50: 80.87%\n"
     ]
    }
   ],
   "source": [
    "print('Training accuracy at max_depth = 50: ' + str(round(train_results[-1]*100,2))+'%')\n",
    "print('Testing accuracy at max_depth = 50: ' + str(round(test_results[-1]*100,2))+'%')"
   ]
  },
  {
   "cell_type": "code",
   "execution_count": 35,
   "id": "0ab39488",
   "metadata": {
    "scrolled": false
   },
   "outputs": [
    {
     "data": {
      "image/png": "[encoded data removed]",
      "text/plain": [
       "<Figure size 1080x432 with 1 Axes>"
      ]
     },
     "metadata": {
      "needs_background": "light"
     },
     "output_type": "display_data"
    }
   ],
   "source": [
    "testTrain_plot(max_depths,train_results,test_results, \"Test and Train accuracy vs. Tree depth of \\n Random forest classifier with n_estimators=1\")"
   ]
  },
  {
   "cell_type": "markdown",
   "id": "d746725a",
   "metadata": {},
   "source": [
    "As we can see from the figure above, when applying the random forest classifier with the hyperparameter n_estimators (number of decision trees used in ensemble) equal to <b>1</b>, we can the see that the model was underfitting between the Tree depth hyperparameter equal to <b>1</b> and <b>8</b>, and it reaches its optimal Tree depth value that maximizes the test accuracy and minimizes the generalization gap between the training and testing accuracies curves at max_depth equal to <b>10</b>, where after this value the generalization gap starts getting larger and larger till it reaches to <b>11%</b> between the testing and training accuracies at max_depth value equal to <b>50</b> where the training and testing accuracies are equal to <b>91.61%</b> and <b>80.87%</b> respectively."
   ]
  },
  {
   "cell_type": "markdown",
   "id": "607604f0",
   "metadata": {},
   "source": [
    "### For n_estimators = 50"
   ]
  },
  {
   "cell_type": "code",
   "execution_count": 36,
   "id": "69337833",
   "metadata": {
    "scrolled": false
   },
   "outputs": [],
   "source": [
    "max_depths = np.linspace(1, 50, 50, endpoint=True)\n",
    "\n",
    "train_results = []\n",
    "test_results = []\n",
    "\n",
    "for max_depth in max_depths:\n",
    "    rf_e50 = RandomForestClassifier(max_depth=max_depth,n_estimators=50,random_state=0, n_jobs=-1)\n",
    "    rf_e50.fit(Xtrain_encoded, Ytrain)\n",
    "    YpredTrain = rf_e50.predict(Xtrain_encoded)\n",
    "    trainAccuracy = accuracy_score(Ytrain, YpredTrain)\n",
    "    Ypredtest = rf_e50.predict(Xtest_encoded)\n",
    "    testAccuracy = accuracy_score(Ytest, Ypredtest)\n",
    "    train_results.append(trainAccuracy)\n",
    "    test_results.append(testAccuracy)"
   ]
  },
  {
   "cell_type": "code",
   "execution_count": 37,
   "id": "c588571f",
   "metadata": {},
   "outputs": [
    {
     "name": "stdout",
     "output_type": "stream",
     "text": [
      "Training accuracy at max_depth = 50: 97.6%\n",
      "Testing accuracy at max_depth = 50: 84.38%\n"
     ]
    }
   ],
   "source": [
    "print('Training accuracy at max_depth = 50: ' + str(round(train_results[-1]*100,2))+'%')\n",
    "print('Testing accuracy at max_depth = 50: ' + str(round(test_results[-1]*100,2))+'%')"
   ]
  },
  {
   "cell_type": "code",
   "execution_count": 38,
   "id": "3f9aa960",
   "metadata": {
    "scrolled": false
   },
   "outputs": [
    {
     "data": {
      "image/png": "[encoded data removed]",
      "text/plain": [
       "<Figure size 1080x432 with 1 Axes>"
      ]
     },
     "metadata": {
      "needs_background": "light"
     },
     "output_type": "display_data"
    }
   ],
   "source": [
    "testTrain_plot(max_depths,train_results,test_results, \"Test and Train accuracy vs. Tree depth of \\n Random forest classifier with n_estimators=50\")"
   ]
  },
  {
   "cell_type": "markdown",
   "id": "65faf668",
   "metadata": {},
   "source": [
    "From the figure above, we can see a similar behaviour as the graph of the Random Forest classifier with n_estimators set to <b>1</b>, but this time after increasing the number of decision trees used in ensemble (n_estimators) to 50, the training accuracy increased by 6% and the testing accuracy increased by approximately 4% resulting in an increase in the generalization gap to <b>13%</b> at max_depth = 50 where the training accuracy is equal <b>97.6%</b> and testing accuracy to <b>84.4%</b>, while the model maintained the same underfitting behaviour for max_depth value less than 4."
   ]
  },
  {
   "cell_type": "markdown",
   "id": "7c4b1c07",
   "metadata": {},
   "source": [
    "### For n_estimators = 100"
   ]
  },
  {
   "cell_type": "code",
   "execution_count": 39,
   "id": "a42af3f1",
   "metadata": {
    "scrolled": true
   },
   "outputs": [],
   "source": [
    "max_depths = np.linspace(1, 50, 50, endpoint=True)\n",
    "\n",
    "train_results = []\n",
    "test_results = []\n",
    "\n",
    "for max_depth in max_depths:\n",
    "    rf_e100 = RandomForestClassifier(max_depth=max_depth,n_estimators=100,random_state=0, n_jobs=-1)\n",
    "    rf_e100.fit(Xtrain_encoded, Ytrain)\n",
    "    YpredTrain = rf_e100.predict(Xtrain_encoded)\n",
    "    trainAccuracy = accuracy_score(Ytrain, YpredTrain)\n",
    "    Ypredtest = rf_e100.predict(Xtest_encoded)\n",
    "    testAccuracy = accuracy_score(Ytest, Ypredtest)\n",
    "    train_results.append(trainAccuracy)\n",
    "    test_results.append(testAccuracy)"
   ]
  },
  {
   "cell_type": "code",
   "execution_count": 40,
   "id": "b3d603da",
   "metadata": {},
   "outputs": [
    {
     "name": "stdout",
     "output_type": "stream",
     "text": [
      "Training accuracy at max_depth = 50: 97.64%\n",
      "Testing accuracy at max_depth = 50: 84.59%\n"
     ]
    }
   ],
   "source": [
    "print('Training accuracy at max_depth = 50: ' + str(round(train_results[-1]*100,2))+'%')\n",
    "print('Testing accuracy at max_depth = 50: ' + str(round(test_results[-1]*100,2))+'%')"
   ]
  },
  {
   "cell_type": "code",
   "execution_count": 41,
   "id": "b004353c",
   "metadata": {
    "scrolled": false
   },
   "outputs": [
    {
     "data": {
      "image/png": "[encoded data removed]",
      "text/plain": [
       "<Figure size 1080x432 with 1 Axes>"
      ]
     },
     "metadata": {
      "needs_background": "light"
     },
     "output_type": "display_data"
    }
   ],
   "source": [
    "testTrain_plot(max_depths,train_results,test_results, \"Test and Train accuracy vs. Tree depth of \\n Random forest classifier with n_estimators=100\")"
   ]
  },
  {
   "cell_type": "markdown",
   "id": "caf2b168",
   "metadata": {},
   "source": [
    "From the figure above, we can see that when the n_estimators hyperparameters was set to <b>100</b>, the model performed almost typically to its performance when the n_estimators hyperparameter was set to <b>50</b>, which means that the models train and test accuracy curves began to converge, and any futher increase in the n_estimators hyperparameter value will not affect the model's training and testing accuracies much as by doubling the n_estimators values from 50 to 100, the model maintained approximately the same behaviour and accuracy values of the training and testing accuracies curves over the different max_depths."
   ]
  },
  {
   "cell_type": "markdown",
   "id": "1b003486",
   "metadata": {},
   "source": [
    "### For n_estimators = 300"
   ]
  },
  {
   "cell_type": "code",
   "execution_count": 42,
   "id": "c4c80bf5",
   "metadata": {
    "scrolled": true
   },
   "outputs": [],
   "source": [
    "max_depths = np.linspace(1, 50, 50, endpoint=True)\n",
    "\n",
    "train_results = []\n",
    "test_results = []\n",
    "\n",
    "for max_depth in max_depths:\n",
    "    rf_e300 = RandomForestClassifier(max_depth=max_depth,n_estimators=300,random_state=0, n_jobs=-1)\n",
    "    rf_e300.fit(Xtrain_encoded, Ytrain)\n",
    "    YpredTrain = rf_e300.predict(Xtrain_encoded)\n",
    "    trainAccuracy = accuracy_score(Ytrain, YpredTrain)\n",
    "    Ypredtest = rf_e300.predict(Xtest_encoded)\n",
    "    testAccuracy = accuracy_score(Ytest, Ypredtest)\n",
    "    train_results.append(trainAccuracy)\n",
    "    test_results.append(testAccuracy)"
   ]
  },
  {
   "cell_type": "code",
   "execution_count": 43,
   "id": "0959737e",
   "metadata": {},
   "outputs": [
    {
     "name": "stdout",
     "output_type": "stream",
     "text": [
      "Training accuracy at max_depth = 50: 97.64%\n",
      "Testing accuracy at max_depth = 50: 84.56%\n"
     ]
    }
   ],
   "source": [
    "print('Training accuracy at max_depth = 50: ' + str(round(train_results[-1]*100,2))+'%')\n",
    "print('Testing accuracy at max_depth = 50: ' + str(round(test_results[-1]*100,2))+'%')"
   ]
  },
  {
   "cell_type": "code",
   "execution_count": 44,
   "id": "b0fe6fbd",
   "metadata": {},
   "outputs": [
    {
     "data": {
      "image/png": "[encoded data removed]",
      "text/plain": [
       "<Figure size 1080x432 with 1 Axes>"
      ]
     },
     "metadata": {
      "needs_background": "light"
     },
     "output_type": "display_data"
    }
   ],
   "source": [
    "testTrain_plot(max_depths,train_results,test_results, \"Test and Train accuracy vs. Tree depth of \\n Random forest classifier with n_estimators=300\")"
   ]
  },
  {
   "cell_type": "markdown",
   "id": "808ddb73",
   "metadata": {},
   "source": [
    "From the figure above, we can see that our assumption for the Random Forest classifier accuracies convergence by the increase of the values of the hyperparameter n_estimators is true, as after triplling the n_estimators value of the previous model and setting it to 300, the model maintained the same behaviour on the test and train accuracies graphs as the previous 2 models, but the time the curves are getting smoother as a result of the high number of decision tree ensembles which reduces the error when calculating the mean accuracy at each tree depth accross the large number of estimators."
   ]
  },
  {
   "cell_type": "markdown",
   "id": "0203fe96",
   "metadata": {},
   "source": [
    "## To sum up:"
   ]
  },
  {
   "cell_type": "markdown",
   "id": "14c592d8",
   "metadata": {},
   "source": [
    "- <b>What's the difference between the curve for a decision tree and for a random forest with an\n",
    "ensemble size of 1, and why do we see this difference?</b>\n",
    "> The difference between the decision tree and random forest curves is that the decision tree is built on the whole dataset with all its observations and features, while the random forest with an\n",
    "ensemble size of 1 randomly selects subsets of observations and features to build a decision tree using them, therefore we can see an inconsistency in the max_depth graph of the random forest train and test curves, due to the different subsets of variables and features selected at each tree depth.\n",
    "- <b>What happens with the curve for random forests as the ensemble size grows?</b>\n",
    "> As discussed earlier, as the nuber of the ensemble size grows, the train and test accuracies converges to a specific value, in our case approximately <b>97.5%</b> and <b>84.5%</b> for the training and testing accuracies respectively, and we can see that the higher the ensemble size gets, the smoother the curves get, due to the fact that random forest randomly selects observations and features to build the <b>n</b> decision trees from and then averages the resulting accuracies, so as n tends to infinity, the accuracy at each tree depth will tend to the mean resulting in a smooth curve for each of the training and testing sets.\n",
    "- <b>What happens with the best observed test set accuracy as the ensemble size grows?</b>\n",
    "> In our case, the best observed test set accuracy was at tree depth set to <b>10</b> when the ensemble size was equal to <b>1</b>, and as the ensemble size increased, the tree depth that maximized the test accuracy remained approximately the same.\n",
    "- <b>What happens with the training time as the ensemble size grows?</b>\n",
    "> As the ensemble size increases, the training time becomes much longer, as the number of trees to be built at each variant of the model was increased by a lot, starting with ensemble size equal to 1, moving by ensemble size equal to 50 and 100 till the maximum implemented ensemble size which was 300, it resulted in a more computationally expensive model."
   ]
  },
  {
   "cell_type": "markdown",
   "id": "bbf0c4df",
   "metadata": {
    "id": "bbf0c4df"
   },
   "source": [
    "# Task 3: Feature importances in random forest classifiers"
   ]
  },
  {
   "cell_type": "markdown",
   "id": "ddc2ba09",
   "metadata": {
    "id": "ddc2ba09"
   },
   "source": [
    "### Desicion Tree"
   ]
  },
  {
   "cell_type": "code",
   "execution_count": 45,
   "id": "cfcc1cdd",
   "metadata": {
    "id": "cfcc1cdd"
   },
   "outputs": [
    {
     "data": {
      "text/plain": [
       "DecisionTreeClassifier(random_state=0)"
      ]
     },
     "execution_count": 45,
     "metadata": {},
     "output_type": "execute_result"
    }
   ],
   "source": [
    "skDT.fit(Xtrain_encoded, Ytrain)"
   ]
  },
  {
   "cell_type": "code",
   "execution_count": 46,
   "id": "b27aba8e",
   "metadata": {
    "id": "b27aba8e"
   },
   "outputs": [],
   "source": [
    "feature_names = dv.feature_names_"
   ]
  },
  {
   "cell_type": "code",
   "execution_count": 47,
   "id": "f719e6ec",
   "metadata": {
    "id": "f719e6ec"
   },
   "outputs": [],
   "source": [
    "DTimp = []\n",
    "for weight, fname in sorted(zip(skDT.feature_importances_, dv.feature_names_), reverse=True):\n",
    "    DTimp.append((fname,weight))"
   ]
  },
  {
   "cell_type": "code",
   "execution_count": 48,
   "id": "e167f0b3",
   "metadata": {},
   "outputs": [
    {
     "name": "stdout",
     "output_type": "stream",
     "text": [
      "Top 10 important features fof the Decision Tree Classifier:\n",
      "marital-status=Married-civ-spouse: 0.214\n",
      "age: 0.163\n",
      "education-num: 0.127\n",
      "capital-gain: 0.119\n",
      "hours-per-week: 0.101\n",
      "capital-loss: 0.044\n",
      "workclass=Private: 0.014\n",
      "workclass=Self-emp-not-inc: 0.011\n",
      "occupation=Exec-managerial: 0.01\n",
      "occupation=Prof-specialty: 0.009\n"
     ]
    }
   ],
   "source": [
    "print('Top 10 important features fof the Decision Tree Classifier:')\n",
    "for i in DTimp[:10]:\n",
    "    print(i[0]+':',round(i[1],3))"
   ]
  },
  {
   "cell_type": "code",
   "execution_count": 49,
   "id": "e93bde91",
   "metadata": {},
   "outputs": [
    {
     "name": "stdout",
     "output_type": "stream",
     "text": [
      "Least 10 important features fof the Decision Tree Classifier:\n",
      "occupation=Priv-house-serv: 0.0\n",
      "occupation=Armed-Forces: 0.0\n",
      "native-country=Scotland: 0.0\n",
      "native-country=Peru: 0.0\n",
      "native-country=Outlying-US(Guam-USVI-etc): 0.0\n",
      "native-country=Nicaragua: 0.0\n",
      "native-country=Honduras: 0.0\n",
      "native-country=Holand-Netherlands: 0.0\n",
      "native-country=El-Salvador: 0.0\n",
      "native-country=Dominican-Republic: 0.0\n"
     ]
    }
   ],
   "source": [
    "print('Least 10 important features fof the Decision Tree Classifier:')\n",
    "for i in DTimp[-10:]:\n",
    "    print(i[0]+':',round(i[1],3))"
   ]
  },
  {
   "cell_type": "markdown",
   "id": "3b46d2e8",
   "metadata": {},
   "source": [
    "As we can see from the two cells above, sklearn's default feature importance mechanism found that for the decision tree implemented above,  the feature's maritial status class of (Married-civ-spouse) was the most important feature in the discrimination between the 2 output classes  with an importance coefficient of 0.214 followed by the age feature which was assigned an importance coefficient of 0.163, while it found that the feature native-country with most of its classes had not any importance in the discrimination between the 2 output classes which is an indication that there is no-race/origin disrimination in the determination criteria of the salaries."
   ]
  },
  {
   "cell_type": "markdown",
   "id": "59987bf9",
   "metadata": {
    "id": "59987bf9"
   },
   "source": [
    "### Random Forests"
   ]
  },
  {
   "cell_type": "code",
   "execution_count": 50,
   "id": "0fc15d96",
   "metadata": {
    "id": "0fc15d96"
   },
   "outputs": [
    {
     "data": {
      "text/plain": [
       "RandomForestClassifier(n_jobs=-1, random_state=0)"
      ]
     },
     "execution_count": 50,
     "metadata": {},
     "output_type": "execute_result"
    }
   ],
   "source": [
    "RF.fit(Xtrain_encoded, Ytrain)"
   ]
  },
  {
   "cell_type": "code",
   "execution_count": 51,
   "id": "f2767b32",
   "metadata": {
    "id": "f2767b32",
    "scrolled": true
   },
   "outputs": [],
   "source": [
    "RFimp=[]\n",
    "for weight, fname in sorted(zip(RF.feature_importances_, dv.feature_names_), reverse=True):\n",
    "    RFimp.append((fname, weight))"
   ]
  },
  {
   "cell_type": "code",
   "execution_count": 52,
   "id": "f694d8a7",
   "metadata": {
    "scrolled": false
   },
   "outputs": [
    {
     "name": "stdout",
     "output_type": "stream",
     "text": [
      "Top 10 important features fof the Random Forest Classifier:\n",
      "age: 0.226\n",
      "hours-per-week: 0.114\n",
      "capital-gain: 0.103\n",
      "education-num: 0.067\n",
      "marital-status=Married-civ-spouse: 0.06\n",
      "relationship=Husband: 0.05\n",
      "capital-loss: 0.034\n",
      "marital-status=Never-married: 0.027\n",
      "occupation=Exec-managerial: 0.02\n",
      "occupation=Prof-specialty: 0.016\n"
     ]
    }
   ],
   "source": [
    "print('Top 10 important features fof the Random Forest Classifier:')\n",
    "for i in RFimp[:10]:\n",
    "    print(i[0]+':',round(i[1],3))"
   ]
  },
  {
   "cell_type": "code",
   "execution_count": 53,
   "id": "43dc574c",
   "metadata": {},
   "outputs": [
    {
     "name": "stdout",
     "output_type": "stream",
     "text": [
      "Least 10 important features fof the Random Forest Classifier:\n",
      "native-country=Trinadad&Tobago: 0.0\n",
      "native-country=Scotland: 0.0\n",
      "workclass=Without-pay: 0.0\n",
      "native-country=Thailand: 0.0\n",
      "education=Preschool: 0.0\n",
      "native-country=Outlying-US(Guam-USVI-etc): 0.0\n",
      "occupation=Armed-Forces: 0.0\n",
      "workclass=Never-worked: 0.0\n",
      "native-country=Honduras: 0.0\n",
      "native-country=Holand-Netherlands: 0.0\n"
     ]
    }
   ],
   "source": [
    "print('Least 10 important features fof the Random Forest Classifier:')\n",
    "for i in RFimp[-10:]:\n",
    "    print(i[0]+':',round(i[1],3))"
   ]
  },
  {
   "cell_type": "markdown",
   "id": "8567fef1",
   "metadata": {},
   "source": [
    "As we can see from the two cells above, sklearn's default feature importance mechanism found that for the Random Forest Classifier implemented above, the feature age was the most important feature in the discrimination between the 2 output classes with an importance coefficient of 0.226 followed by the hours-per-week feature which was assigned an importance coefficient of 0.114, while we we found that features like native-country with most of its classes, and workclass (classes Without-pay and Never-worked) had not any importance in the discrimination between the 2 output classes."
   ]
  },
  {
   "cell_type": "markdown",
   "id": "93faa4e1",
   "metadata": {},
   "source": [
    "### Discussion of alternative ways to compute importance scores of individual features"
   ]
  },
  {
   "cell_type": "markdown",
   "id": "1f47d23e",
   "metadata": {},
   "source": [
    "From the article <i>Beware Default Random Forest Importances</i> of Terence Parr, Kerem Turgutlu, Christopher Csiszar, and Jeremy Howard, they discussed several alternative methods to compute the importance of features in Random Forest models. They started by discussing the default feature importance mechanism of sklearn's random forest model <b> the mean\n",
    "decrease in impurity</b> and how it does not always give an accurate picture of importance as it tends to inflate the importance of continuous or high cardinality categorical variables.<br>\n",
    "Moreover, they proceeded to discuss alternative methods for measuring the importance scores of features such as <b>permutation importance </b> and <b>drop-column importance</b>. They started to explain Permutation importance mechanism which works in the following way: \n",
    "<ul>\n",
    "    <li>Records a baseline accuracy by passing a validation set through the model.</li>\n",
    "    <li>Permute the values of a single feature and then pass all test samples back through the model and recompute the accuracy.</li>\n",
    "    <li>Calculates the importance of the feature as the difference between the baseline and the drop in overall accuracy</li>\n",
    "</ul>\n",
    "Moreover, they discussed about the permutation importance technique drawbacks which is its comutational expense as it takes much more time compared to the mean decrease in impurity mechanism, and it over-estimates the importance of correlated predictor variables, but it does not require the retraining of the underlying model in\n",
    "order to measure the effect of shuffling variables on overall model accuracy, and its results are more reliable than the default importance computation mechanism. Afterwards, they moved forward to discuss about the drop-column importance mechanism which works in the following way: \n",
    "<ul>\n",
    "    <li>Getting a baseline performance score.</li>\n",
    "    <li>Dropping a column entirely, retraining the model, and recomputing the performance score.</li>\n",
    "    <li>Calculating The importance value of a feature as the difference between the baseline score and the score\n",
    "from the model missing the dropped feature.</li>\n",
    "</ul>\n",
    "Then, they stress on the fact of how this mechanism answers the question of how important a feature is to overall model performance, which is the key point of the interpretability of the model, while this mechanism's drawback is extremely computationally expensive, and if it wasn't that expensive, it could have benn the default for all random forest models."
   ]
  }
 ],
 "metadata": {
  "colab": {
   "name": "Assignment2.ipynb",
   "provenance": []
  },
  "kernelspec": {
   "display_name": "Python 3 (ipykernel)",
   "language": "python",
   "name": "python3"
  },
  "language_info": {
   "codemirror_mode": {
    "name": "ipython",
    "version": 3
   },
   "file_extension": ".py",
   "mimetype": "text/x-python",
   "name": "python",
   "nbconvert_exporter": "python",
   "pygments_lexer": "ipython3",
   "version": "3.10.6"
  }
 },
 "nbformat": 4,
 "nbformat_minor": 5
}
